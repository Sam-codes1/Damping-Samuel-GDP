{
 "cells": [
  {
   "cell_type": "code",
   "execution_count": 128,
   "metadata": {},
   "outputs": [],
   "source": [
    "import numpy as np\n",
    "import matplotlib.pyplot as plt\n",
    "import pandas as pd"
   ]
  },
  {
   "cell_type": "markdown",
   "metadata": {},
   "source": [
    "## Damping Coefficient Calculations"
   ]
  },
  {
   "cell_type": "markdown",
   "metadata": {},
   "source": [
    "To ignore sway and yaw motions in order to limit the discussion  to the problem of nonlinear roll damping,\n",
    " we can write down the equation of the roll motion of a ship in the following\n",
    "simple single-degree-of-freedom forms:\n",
    "\n",
    "If$$A\\ddot{\\phi}\\ + B (\\dot{\\phi})\\dot{\\phi} + C(\\phi ,t) =M(\\omega t) \\tag{1}$$ \n",
    "in which $\\phi$ is the angular roll motion, dots represent time derivatives, $A$ is the total\n",
    "moment of inertia in roll, $M$ is the wave exciting moment, $\\omega$ is the wave frequency\n",
    "and $t$ is time. The damping coefficient $B$ and the restoring coefficient $C$ are shown\n",
    "as nonlinear quantities. The restoring term in Eq. (1) is often given in a polynomial\n",
    "form in f. The damping term B may be represented by:\n",
    "$$ B(\\dot{\\phi}) = B_1{\\dot{\\phi}} + B_2 \\lvert \\dot{\\phi} \\rvert \\dot{\\phi} + B_3 \\phi^3 \\tag{2}$$\n",
    "(Dalzell 1976). Linearization of the nonlinear term involves either regular wave harmonic\n",
    "equivalent linearization or irregular wave stochastic linearization method. The harmonic\n",
    "linearization equates the energy loss per cycle and results in the following relationship. \n",
    "$$ B_e = B_1 + \\frac{8}{3\\pi}\\omega\\phi_a B_2 + \\frac{3}{4}\\omega^2\\phi_a^2 B_3 \\tag{3}$$\n",
    "where $\\phi_a$ is the amplitude of roll.\n",
    "\n",
    "Eq.3 will allow for the calculation of extinction coefficients $a_1,a_2, a_3$ which will be used when calculating eddy damping. The coeffcients will be assumed using roll decay test provided by maxsurf"
   ]
  },
  {
   "cell_type": "markdown",
   "metadata": {},
   "source": [
    "## Roll Decay "
   ]
  },
  {
   "cell_type": "markdown",
   "metadata": {},
   "source": [
    "Roll Decay was run for the maxsurf model heeled at $30^{\\circ}$ to get a roll decay graph.\n"
   ]
  },
  {
   "cell_type": "markdown",
   "metadata": {},
   "source": [
    "##### Froude Energy Method"
   ]
  },
  {
   "cell_type": "markdown",
   "metadata": {},
   "source": [
    "The energy done by the restoring moment lever arm during the half cycle between φ1 and φ2 is\n",
    "described by Equation (4). By averaging the the successive amplitudes the restoring energy can be\n",
    "represented using Equation(5), where $\\phi_a =\n",
    "\\phi_1+\\phi_2$ , $c = \\omega_d^2$, $\\frac{d\\phi}{dr} = \\phi_1 − \\phi_2$\n",
    "\n",
    "$$E_{r\\frac{1}{2}}=\\int_{\\phi_2}^{\\phi_1} c\\phi \\,d\\phi = \\frac{c}{2}[\\phi_1^2 - \\phi_2^2] \\tag{4}$$\n",
    "\n",
    "$$E_{r\\frac{1}{2}} = \\omega_d^2 \\phi_a \\frac{\\phi}{dr} \\tag{5}$$\n",
    "\n",
    "which allows for the derivation of Equation(3) to get a plot using in which\n",
    "\n",
    "$$ \\frac{d\\phi_a}{dr} = a \\phi_a +b \\phi_a^2 + c \\phi_a^3\\tag{6}$$\n",
    "\n",
    "and a is decay exticntion coefficient $a1$ and b is decay coefficient $a2$ and $a3$ is c"
   ]
  },
  {
   "cell_type": "code",
   "execution_count": 129,
   "metadata": {},
   "outputs": [],
   "source": [
    "rd=pd.read_excel('roll_decay30.xlsx')"
   ]
  },
  {
   "cell_type": "code",
   "execution_count": 130,
   "metadata": {},
   "outputs": [
    {
     "data": {
      "text/html": [
       "<div>\n",
       "<style scoped>\n",
       "    .dataframe tbody tr th:only-of-type {\n",
       "        vertical-align: middle;\n",
       "    }\n",
       "\n",
       "    .dataframe tbody tr th {\n",
       "        vertical-align: top;\n",
       "    }\n",
       "\n",
       "    .dataframe thead th {\n",
       "        text-align: right;\n",
       "    }\n",
       "</style>\n",
       "<table border=\"1\" class=\"dataframe\">\n",
       "  <thead>\n",
       "    <tr style=\"text-align: right;\">\n",
       "      <th></th>\n",
       "      <th>time[s]</th>\n",
       "      <th>roll[deg]</th>\n",
       "    </tr>\n",
       "  </thead>\n",
       "  <tbody>\n",
       "    <tr>\n",
       "      <th>0</th>\n",
       "      <td>0.000</td>\n",
       "      <td>-30.000001</td>\n",
       "    </tr>\n",
       "    <tr>\n",
       "      <th>1</th>\n",
       "      <td>1.000</td>\n",
       "      <td>-30.000001</td>\n",
       "    </tr>\n",
       "    <tr>\n",
       "      <th>2</th>\n",
       "      <td>1.047</td>\n",
       "      <td>-30.000001</td>\n",
       "    </tr>\n",
       "    <tr>\n",
       "      <th>3</th>\n",
       "      <td>1.064</td>\n",
       "      <td>-30.000001</td>\n",
       "    </tr>\n",
       "    <tr>\n",
       "      <th>4</th>\n",
       "      <td>1.081</td>\n",
       "      <td>-30.000001</td>\n",
       "    </tr>\n",
       "    <tr>\n",
       "      <th>...</th>\n",
       "      <td>...</td>\n",
       "      <td>...</td>\n",
       "    </tr>\n",
       "    <tr>\n",
       "      <th>5680</th>\n",
       "      <td>97.585</td>\n",
       "      <td>0.001566</td>\n",
       "    </tr>\n",
       "    <tr>\n",
       "      <th>5681</th>\n",
       "      <td>97.601</td>\n",
       "      <td>0.001112</td>\n",
       "    </tr>\n",
       "    <tr>\n",
       "      <th>5682</th>\n",
       "      <td>97.618</td>\n",
       "      <td>0.000631</td>\n",
       "    </tr>\n",
       "    <tr>\n",
       "      <th>5683</th>\n",
       "      <td>97.635</td>\n",
       "      <td>0.000150</td>\n",
       "    </tr>\n",
       "    <tr>\n",
       "      <th>5684</th>\n",
       "      <td>97.651</td>\n",
       "      <td>-0.000300</td>\n",
       "    </tr>\n",
       "  </tbody>\n",
       "</table>\n",
       "<p>5685 rows × 2 columns</p>\n",
       "</div>"
      ],
      "text/plain": [
       "      time[s]  roll[deg]\n",
       "0       0.000 -30.000001\n",
       "1       1.000 -30.000001\n",
       "2       1.047 -30.000001\n",
       "3       1.064 -30.000001\n",
       "4       1.081 -30.000001\n",
       "...       ...        ...\n",
       "5680   97.585   0.001566\n",
       "5681   97.601   0.001112\n",
       "5682   97.618   0.000631\n",
       "5683   97.635   0.000150\n",
       "5684   97.651  -0.000300\n",
       "\n",
       "[5685 rows x 2 columns]"
      ]
     },
     "execution_count": 130,
     "metadata": {},
     "output_type": "execute_result"
    }
   ],
   "source": [
    "rd"
   ]
  },
  {
   "cell_type": "code",
   "execution_count": 131,
   "metadata": {},
   "outputs": [],
   "source": [
    "rd_time = rd.iloc[:, 0]"
   ]
  },
  {
   "cell_type": "code",
   "execution_count": 132,
   "metadata": {},
   "outputs": [
    {
     "data": {
      "text/plain": [
       "0        0.000\n",
       "1        1.000\n",
       "2        1.047\n",
       "3        1.064\n",
       "4        1.081\n",
       "         ...  \n",
       "5680    97.585\n",
       "5681    97.601\n",
       "5682    97.618\n",
       "5683    97.635\n",
       "5684    97.651\n",
       "Name: time[s], Length: 5685, dtype: float64"
      ]
     },
     "execution_count": 132,
     "metadata": {},
     "output_type": "execute_result"
    }
   ],
   "source": [
    "rd_time"
   ]
  },
  {
   "cell_type": "code",
   "execution_count": 133,
   "metadata": {},
   "outputs": [],
   "source": [
    "rd_roll = rd.iloc[:, 1]"
   ]
  },
  {
   "cell_type": "code",
   "execution_count": 134,
   "metadata": {},
   "outputs": [
    {
     "data": {
      "text/plain": [
       "Text(0, 0.5, 'Roll angle,φ')"
      ]
     },
     "execution_count": 134,
     "metadata": {},
     "output_type": "execute_result"
    },
    {
     "data": {
      "image/png": "[encoded data removed]",
      "text/plain": [
       "<Figure size 432x288 with 1 Axes>"
      ]
     },
     "metadata": {
      "needs_background": "light"
     },
     "output_type": "display_data"
    }
   ],
   "source": [
    "plt.plot(rd_time,rd_roll)\n",
    "plt.xlabel('Time(s)')\n",
    "plt.ylabel('Roll angle,φ')"
   ]
  },
  {
   "cell_type": "code",
   "execution_count": 135,
   "metadata": {},
   "outputs": [],
   "source": [
    "peaks=[ 23.7534351,14.808004,9.231078,5.754706,3.587509,2.236410,1.394176,0.869140,0.541811,0.337763,0.210565,0.131264,0.081829,0.051013,]"
   ]
  },
  {
   "cell_type": "code",
   "execution_count": 136,
   "metadata": {},
   "outputs": [
    {
     "data": {
      "text/plain": [
       "[23.7534351,\n",
       " 14.808004,\n",
       " 9.231078,\n",
       " 5.754706,\n",
       " 3.587509,\n",
       " 2.23641,\n",
       " 1.394176,\n",
       " 0.86914,\n",
       " 0.541811,\n",
       " 0.337763,\n",
       " 0.210565,\n",
       " 0.131264,\n",
       " 0.081829,\n",
       " 0.051013]"
      ]
     },
     "execution_count": 136,
     "metadata": {},
     "output_type": "execute_result"
    }
   ],
   "source": [
    "peaks"
   ]
  },
  {
   "cell_type": "code",
   "execution_count": 137,
   "metadata": {},
   "outputs": [],
   "source": [
    "troughs= [ -18.754816,-11.691638,-7.288439,-4.543706,-2.832531,-1.765746,-1.100791,-0.686232,-0.427783,-0.266687,-0.166252,-0.103639,-0.064610,-0.040278 ]"
   ]
  },
  {
   "cell_type": "code",
   "execution_count": 138,
   "metadata": {},
   "outputs": [
    {
     "data": {
      "text/plain": [
       "[-18.754816,\n",
       " -11.691638,\n",
       " -7.288439,\n",
       " -4.543706,\n",
       " -2.832531,\n",
       " -1.765746,\n",
       " -1.100791,\n",
       " -0.686232,\n",
       " -0.427783,\n",
       " -0.266687,\n",
       " -0.166252,\n",
       " -0.103639,\n",
       " -0.06461,\n",
       " -0.040278]"
      ]
     },
     "execution_count": 138,
     "metadata": {},
     "output_type": "execute_result"
    }
   ],
   "source": [
    "troughs"
   ]
  },
  {
   "cell_type": "code",
   "execution_count": 139,
   "metadata": {},
   "outputs": [
    {
     "name": "stdout",
     "output_type": "stream",
     "text": [
      "[42.5082511, 26.499642, 16.519517, 10.298411999999999, 6.42004, 4.002155999999999, 2.494967, 1.555372, 0.9695940000000001, 0.6044499999999999, 0.376817, 0.23490299999999997, 0.14643899999999999, 0.09129100000000001]\n"
     ]
    }
   ],
   "source": [
    "diff = []\n",
    "\n",
    "zip_object = zip(peaks, troughs)\n",
    "for list1_i, list2_i in zip_object:\n",
    "    diff.append(list1_i-list2_i)\n",
    "print(diff)"
   ]
  },
  {
   "cell_type": "code",
   "execution_count": 140,
   "metadata": {},
   "outputs": [
    {
     "data": {
      "text/plain": [
       "Text(0, 0.5, 'φ1-φ2')"
      ]
     },
     "execution_count": 140,
     "metadata": {},
     "output_type": "execute_result"
    },
    {
     "data": {
      "image/png": "[encoded data removed]",
      "text/plain": [
       "<Figure size 432x288 with 1 Axes>"
      ]
     },
     "metadata": {
      "needs_background": "light"
     },
     "output_type": "display_data"
    }
   ],
   "source": [
    "plt.plot(peaks,diff)\n",
    "plt.xlabel('φ1')\n",
    "plt.ylabel('φ1-φ2')\n"
   ]
  },
  {
   "cell_type": "code",
   "execution_count": 141,
   "metadata": {},
   "outputs": [
    {
     "data": {
      "image/png": "[encoded data removed]",
      "text/plain": [
       "<Figure size 432x288 with 1 Axes>"
      ]
     },
     "metadata": {
      "needs_background": "light"
     },
     "output_type": "display_data"
    }
   ],
   "source": [
    "#Fit line\n",
    "slope, intercept = np.polyfit(peaks, diff, 1)\n",
    "\n",
    "#Plot\n",
    "plt.figure()\n",
    "plt.xlabel('peak/trough (i+1)')\n",
    "plt.ylabel('peak/trough i')\n",
    "plt.scatter(peaks, diff) \n",
    "plt.plot(np.unique(peaks), np.poly1d(np.polyfit(peaks, diff, 1))(np.unique(peaks)), color = 'k')\n",
    "plt.show()"
   ]
  },
  {
   "cell_type": "code",
   "execution_count": 142,
   "metadata": {},
   "outputs": [
    {
     "name": "stdout",
     "output_type": "stream",
     "text": [
      "1.7895587625333447\n"
     ]
    }
   ],
   "source": [
    "print(slope)"
   ]
  },
  {
   "cell_type": "code",
   "execution_count": 143,
   "metadata": {},
   "outputs": [
    {
     "data": {
      "text/plain": [
       "0.0926232570959174"
      ]
     },
     "execution_count": 143,
     "metadata": {},
     "output_type": "execute_result"
    }
   ],
   "source": [
    "np.log(slope)/(2*np.pi)"
   ]
  },
  {
   "cell_type": "code",
   "execution_count": 144,
   "metadata": {},
   "outputs": [],
   "source": [
    "damp =[(x + y)/2 for x, y in zip(peaks, troughs)]\n",
    "amp = [x/2 for x in peaks]"
   ]
  },
  {
   "cell_type": "code",
   "execution_count": 145,
   "metadata": {},
   "outputs": [
    {
     "data": {
      "text/plain": [
       "[2.4993095499999995,\n",
       " 1.5581830000000005,\n",
       " 0.9713194999999999,\n",
       " 0.6054999999999997,\n",
       " 0.37748899999999996,\n",
       " 0.23533199999999987,\n",
       " 0.1466925,\n",
       " 0.09145400000000004,\n",
       " 0.05701400000000001,\n",
       " 0.035537999999999986,\n",
       " 0.022156499999999996,\n",
       " 0.013812499999999998,\n",
       " 0.008609499999999999,\n",
       " 0.005367500000000001]"
      ]
     },
     "execution_count": 145,
     "metadata": {},
     "output_type": "execute_result"
    }
   ],
   "source": [
    "damp"
   ]
  },
  {
   "cell_type": "code",
   "execution_count": 146,
   "metadata": {},
   "outputs": [
    {
     "data": {
      "text/plain": [
       "[11.87671755,\n",
       " 7.404002,\n",
       " 4.615539,\n",
       " 2.877353,\n",
       " 1.7937545,\n",
       " 1.118205,\n",
       " 0.697088,\n",
       " 0.43457,\n",
       " 0.2709055,\n",
       " 0.1688815,\n",
       " 0.1052825,\n",
       " 0.065632,\n",
       " 0.0409145,\n",
       " 0.0255065]"
      ]
     },
     "execution_count": 146,
     "metadata": {},
     "output_type": "execute_result"
    }
   ],
   "source": [
    "amp"
   ]
  },
  {
   "cell_type": "code",
   "execution_count": 147,
   "metadata": {},
   "outputs": [
    {
     "data": {
      "text/plain": [
       "Text(0, 0.5, 'dφ amplitude')"
      ]
     },
     "execution_count": 147,
     "metadata": {},
     "output_type": "execute_result"
    },
    {
     "data": {
      "image/png": "[encoded data removed]",
      "text/plain": [
       "<Figure size 432x288 with 1 Axes>"
      ]
     },
     "metadata": {
      "needs_background": "light"
     },
     "output_type": "display_data"
    }
   ],
   "source": [
    "plt.plot(amp,damp)\n",
    "plt.xlabel('φ amplitude')\n",
    "plt.ylabel('dφ amplitude')"
   ]
  },
  {
   "cell_type": "code",
   "execution_count": 148,
   "metadata": {},
   "outputs": [
    {
     "data": {
      "text/plain": [
       "Text(0, 0.5, 'dφ amplitude')"
      ]
     },
     "execution_count": 148,
     "metadata": {},
     "output_type": "execute_result"
    },
    {
     "data": {
      "image/png": "[encoded data removed]",
      "text/plain": [
       "<Figure size 432x288 with 1 Axes>"
      ]
     },
     "metadata": {
      "needs_background": "light"
     },
     "output_type": "display_data"
    }
   ],
   "source": [
    "plt.scatter(amp,damp)\n",
    "plt.xlabel('φ amplitude')\n",
    "plt.ylabel('dφ amplitude')"
   ]
  },
  {
   "cell_type": "markdown",
   "metadata": {},
   "source": [
    "Using Equation.(6) we can use simultaneous equations from values to get values for a and b"
   ]
  },
  {
   "cell_type": "code",
   "execution_count": 149,
   "metadata": {},
   "outputs": [],
   "source": [
    "A = np.array([[amp[2],(amp[2]**2),amp[2]**3],[amp[3],(amp[3]**2),amp[3]**3],[amp[4],(amp[4]**2),amp[4]**3]]) "
   ]
  },
  {
   "cell_type": "code",
   "execution_count": 150,
   "metadata": {},
   "outputs": [],
   "source": [
    "B= np.array([damp[2],damp[3],damp[4]])"
   ]
  },
  {
   "cell_type": "code",
   "execution_count": 151,
   "metadata": {},
   "outputs": [
    {
     "name": "stdout",
     "output_type": "stream",
     "text": [
      "[ 2.10488705e-01 -3.27193739e-05  5.06172897e-06]\n"
     ]
    }
   ],
   "source": [
    "C = np.linalg.solve(A,B)\n",
    "print(C)"
   ]
  },
  {
   "cell_type": "code",
   "execution_count": 152,
   "metadata": {},
   "outputs": [
    {
     "name": "stdout",
     "output_type": "stream",
     "text": [
      "[2.10421483e-01 5.20761459e-06]\n"
     ]
    }
   ],
   "source": [
    "A1 = np.array([[amp[2],(amp[2]**2)], [amp[3],(amp[3]**2)]])\n",
    "B1= np.array([damp[2], damp[3]])\n",
    "C1 = np.linalg.solve(A1,B1)\n",
    "print(C1)"
   ]
  },
  {
   "cell_type": "code",
   "execution_count": 153,
   "metadata": {},
   "outputs": [],
   "source": [
    "L=300\n",
    "B=50\n",
    "T= 11.265\n",
    "#T=5.2\n",
    "o= np.radians(25)\n",
    "#v= 1.18831*(10**-6)\n",
    "p=1025\n",
    "g=9.81\n",
    "KG = 15.348\n",
    "#KG=5.2\n",
    "GM =13.815\n",
    "#GM=52.093\n",
    "OG=abs(T-KG)\n",
    "C_b=0.657\n",
    "C_p=0.762\n",
    "C_w = 0.871\n",
    "C_m = C_b/C_p\n",
    "lbk = 60\n",
    "Tn=13\n",
    "#W= 37531\n",
    "e_f=40\n",
    "U = 20*0.5144\n",
    "vol= 110210.915\n",
    "#vol = 35467.287\n",
    "Am = C_m*B*T\n",
    "b_bk= 0.88\n",
    "w= 2*np.pi/Tn\n",
    "v=0.0178/(L+0.336*15 +0.000221*15**2 )"
   ]
  },
  {
   "cell_type": "markdown",
   "metadata": {},
   "source": [
    "## Empirical Damping Method"
   ]
  },
  {
   "cell_type": "markdown",
   "metadata": {},
   "source": [
    "The empirical damping model suggested by Japanese researchers (Himeno 1981, Ikeda et al. 1978) which has become the standard for estimating the roll damping of a ship shaped structure.\n",
    "quivalent linear damping $B_e$ is assumed to be divided into 5 components – wave\n",
    "damping $B_W$ , skin friction damping $B_F$ , eddy damping $B_E$ , lift damping $B_L$ and bilge keel\n",
    "damping $B_{BK}$ . It is assumed that the interaction between each of the components is negligible. \n",
    "$$ B_e = B_w + B_f + B_L + B_e + B_{BK} \\tag{7}$$"
   ]
  },
  {
   "cell_type": "markdown",
   "metadata": {},
   "source": [
    "## Friction Damping\n",
    "-Provides equations used to calculate the Friction damping which is caused by the skin-friction stress on the hull in roll motion, so that it may possibly be influenced by the presence of waves\n",
    "and bilge keels.\n",
    "$$ B_{f0} = 0.787 \\rho S r_s^2 \\sqrt{\\omega v} [1 + 0.00814(\\frac{r_s^2 \\phi_a^2}{v})^{0.386}] \\tag{8} $$\n",
    "$$ S = L(1.7T +C_b *B) \\tag{9}$$\n",
    "$$ r_s = \\frac{1}{\\pi} [(0.887 + 0.145C_b) \\frac{S}{L} - 2*KG] \\tag{10}$$\n",
    "$$ B_f = B_{f0} (1 + 4.1 \\frac{U}{\\omega L}) \\tag{11}$$"
   ]
  },
  {
   "cell_type": "code",
   "execution_count": 154,
   "metadata": {},
   "outputs": [],
   "source": [
    "S = L*(1.7*T + C_b*B)\n",
    "r_s = (1/np.pi)*((0.887+(0.145*C_b)*(S/L) - 2*OG))"
   ]
  },
  {
   "cell_type": "code",
   "execution_count": 155,
   "metadata": {},
   "outputs": [],
   "source": [
    "B_f0 = 0.787*p*S*((r_s)**2)*((w*v)**0.5)*(1+(0.00814*((r_s**2 * o**2)/(v))**0.386))"
   ]
  },
  {
   "cell_type": "code",
   "execution_count": 156,
   "metadata": {},
   "outputs": [
    {
     "data": {
      "text/plain": [
       "41970.722745927575"
      ]
     },
     "execution_count": 156,
     "metadata": {},
     "output_type": "execute_result"
    }
   ],
   "source": [
    "B_f0"
   ]
  },
  {
   "cell_type": "code",
   "execution_count": 157,
   "metadata": {},
   "outputs": [],
   "source": [
    "B_f = B_f0*(1+4.1*(U/(w*L)))"
   ]
  },
  {
   "cell_type": "code",
   "execution_count": 158,
   "metadata": {},
   "outputs": [
    {
     "data": {
      "text/plain": [
       "54180.38047039438"
      ]
     },
     "execution_count": 158,
     "metadata": {},
     "output_type": "execute_result"
    }
   ],
   "source": [
    "B_f"
   ]
  },
  {
   "cell_type": "code",
   "execution_count": 159,
   "metadata": {},
   "outputs": [],
   "source": [
    "B_fn = B_f*(1/(p*vol*B**2))* (B/2*g)**0.5"
   ]
  },
  {
   "cell_type": "code",
   "execution_count": 160,
   "metadata": {},
   "outputs": [
    {
     "data": {
      "text/plain": [
       "3.004402234974375e-06"
      ]
     },
     "execution_count": 160,
     "metadata": {},
     "output_type": "execute_result"
    }
   ],
   "source": [
    "B_fn"
   ]
  },
  {
   "cell_type": "code",
   "execution_count": 161,
   "metadata": {},
   "outputs": [],
   "source": [
    "U1=18*0.5144\n",
    "U2=19*0.5144\n",
    "U4=22*0.5144\n",
    "U5=26*0.5144\n",
    "U6=30*0.5144"
   ]
  },
  {
   "cell_type": "code",
   "execution_count": 162,
   "metadata": {},
   "outputs": [],
   "source": [
    "def B_fn(U):\n",
    "    x = B_f0*(1+4.1*(U/(w*L)))\n",
    "    y = (x/(p*vol*B**2))*(B/2*g)**0.5\n",
    "    return y"
   ]
  },
  {
   "cell_type": "code",
   "execution_count": 163,
   "metadata": {},
   "outputs": [],
   "source": [
    "B_fny =[B_fn(U1),B_fn(U2),B_fn(U),B_fn(U4),B_fn(U5),B_fn(U6)]"
   ]
  },
  {
   "cell_type": "code",
   "execution_count": 164,
   "metadata": {},
   "outputs": [],
   "source": [
    "Fn= U/(g*L)**0.5"
   ]
  },
  {
   "cell_type": "code",
   "execution_count": 165,
   "metadata": {},
   "outputs": [
    {
     "data": {
      "text/plain": [
       "0.18964256666709325"
      ]
     },
     "execution_count": 165,
     "metadata": {},
     "output_type": "execute_result"
    }
   ],
   "source": [
    "Fn"
   ]
  },
  {
   "cell_type": "code",
   "execution_count": 166,
   "metadata": {},
   "outputs": [],
   "source": [
    "def Fn(U):\n",
    "    x = U/(g*L)**0.5 \n",
    "    return x"
   ]
  },
  {
   "cell_type": "code",
   "execution_count": 167,
   "metadata": {},
   "outputs": [],
   "source": [
    "Fnx=[Fn(U1),Fn(U2),Fn(U),Fn(U4),Fn(U5),Fn(U6)]"
   ]
  },
  {
   "cell_type": "code",
   "execution_count": 168,
   "metadata": {},
   "outputs": [
    {
     "data": {
      "text/plain": [
       "Text(0.5, 0, 'Froude Number')"
      ]
     },
     "execution_count": 168,
     "metadata": {},
     "output_type": "execute_result"
    },
    {
     "data": {
      "image/png": "[encoded data removed]",
      "text/plain": [
       "<Figure size 432x288 with 1 Axes>"
      ]
     },
     "metadata": {
      "needs_background": "light"
     },
     "output_type": "display_data"
    }
   ],
   "source": [
    "plt.plot(Fnx,B_fny)\n",
    "plt.ylabel('Non-Dimensional Skin friciton')\n",
    "plt.xlabel('Froude Number')"
   ]
  },
  {
   "cell_type": "markdown",
   "metadata": {},
   "source": [
    "## Eddy Damping"
   ]
  },
  {
   "cell_type": "markdown",
   "metadata": {},
   "source": [
    "#### Lewis form"
   ]
  },
  {
   "cell_type": "code",
   "execution_count": 169,
   "metadata": {},
   "outputs": [],
   "source": [
    "h_o = B/(2*T) # beam-draft ratio"
   ]
  },
  {
   "cell_type": "code",
   "execution_count": 170,
   "metadata": {},
   "outputs": [],
   "source": [
    "#h_o= 4.547"
   ]
  },
  {
   "cell_type": "code",
   "execution_count": 171,
   "metadata": {},
   "outputs": [],
   "source": [
    "a_c = Am/(B*T) #area coefficient"
   ]
  },
  {
   "cell_type": "code",
   "execution_count": 172,
   "metadata": {},
   "outputs": [],
   "source": [
    "C1=(3 + ((4*a_c)/np.pi)) + (1-((4*a_c)/np.pi))*((h_o - 1)/(h_o + 1))"
   ]
  },
  {
   "cell_type": "code",
   "execution_count": 173,
   "metadata": {},
   "outputs": [],
   "source": [
    "a3= (-C1+ 3 + (9 - 2*C1)**0.5)/C1"
   ]
  },
  {
   "cell_type": "code",
   "execution_count": 174,
   "metadata": {},
   "outputs": [],
   "source": [
    "a1 = ((1 + a3)*(h_o-1))/(h_o+1)"
   ]
  },
  {
   "cell_type": "markdown",
   "metadata": {},
   "source": [
    "### Eddy Calculations"
   ]
  },
  {
   "cell_type": "code",
   "execution_count": 175,
   "metadata": {},
   "outputs": [],
   "source": [
    "f1 = 0.5*(1 + np.tanh(20*(a_c-0.7)))"
   ]
  },
  {
   "cell_type": "code",
   "execution_count": 176,
   "metadata": {},
   "outputs": [],
   "source": [
    "f2 = 0.5*(1-np.cos(np.pi*a_c)) - 1.5*(1 - np.exp(-5*(1-a_c)))*(np.sin(np.pi*a_c))**2"
   ]
  },
  {
   "cell_type": "code",
   "execution_count": 177,
   "metadata": {},
   "outputs": [],
   "source": [
    "f3 = 1 + 4*(np.exp(-1.65e5*(1-a_c)**2))"
   ]
  },
  {
   "cell_type": "code",
   "execution_count": 178,
   "metadata": {},
   "outputs": [],
   "source": [
    "M1 = B/((2)*(1+a1+a3))"
   ]
  },
  {
   "cell_type": "code",
   "execution_count": 179,
   "metadata": {},
   "outputs": [],
   "source": [
    "phi = 0\n",
    "phi2 = 0.5*(np.cos((a1*(1+a3))/(4*a3)))**-1"
   ]
  },
  {
   "cell_type": "code",
   "execution_count": 180,
   "metadata": {},
   "outputs": [],
   "source": [
    "r_m1 = M1 *(((1+a1)*np.sin(phi) - a3* np.sin(3*phi))**2 + ((1-a1)*np.cos(phi) + a3* np.cos(3*phi))**2)**0.5\n",
    "r_m2 = M1 *(((1+a1)*np.sin(phi2) - a3* np.sin(3*phi2))**2 + ((1-a1)*np.cos(phi2) + a3* np.cos(3*phi2))**2)**0.5"
   ]
  },
  {
   "cell_type": "code",
   "execution_count": 181,
   "metadata": {},
   "outputs": [
    {
     "data": {
      "text/plain": [
       "11.265000000000002"
      ]
     },
     "execution_count": 181,
     "metadata": {},
     "output_type": "execute_result"
    }
   ],
   "source": [
    "r_m1"
   ]
  },
  {
   "cell_type": "code",
   "execution_count": 182,
   "metadata": {},
   "outputs": [
    {
     "data": {
      "text/plain": [
       "16.653540208326426"
      ]
     },
     "execution_count": 182,
     "metadata": {},
     "output_type": "execute_result"
    }
   ],
   "source": [
    "r_m2"
   ]
  },
  {
   "cell_type": "code",
   "execution_count": 183,
   "metadata": {},
   "outputs": [],
   "source": [
    "A1 = -2*a3*np.cos(5*phi2) + a1*(1-a3)*np.cos(3*phi2) + ((6 - 3*a1)*a3**2 + (a1**2 - 3*a1)*a3 + a1**2)*np.cos(phi2)\n",
    "B1 = -2*a3*np.sin(5*phi2) + a1*(1-a3)*np.sin(3*phi2) + ((6 + 3*a1)*a3**2 + (a1**2 + 3*a1)*a3 + a1**2)*np.sin(phi2)"
   ]
  },
  {
   "cell_type": "code",
   "execution_count": 184,
   "metadata": {},
   "outputs": [],
   "source": [
    "H1 = 1 + a1**2 + 9*a3**2 + 2*a1*(1-3*a3)*np.cos(2*phi2) - 6*a3*np.cos(4*phi2)"
   ]
  },
  {
   "cell_type": "code",
   "execution_count": 185,
   "metadata": {},
   "outputs": [],
   "source": [
    "h_oo = (h_o*T)/(T-OG)\n",
    "a_cc = (a_c*T - OG)/(T-OG)"
   ]
  },
  {
   "cell_type": "code",
   "execution_count": 186,
   "metadata": {},
   "outputs": [],
   "source": [
    "v_i1 = ((np.pi)**0.5 * f3)/((2*T)*(1-(OG/T))*((abs(h_oo * a_cc))**0.5))\n",
    "v_i2 = r_m2 + ((2*M1)/H1)*(A1**2 + B1**2)**0.5\n",
    "v_i = v_i1*v_i2 # velocity increment"
   ]
  },
  {
   "cell_type": "code",
   "execution_count": 187,
   "metadata": {},
   "outputs": [
    {
     "data": {
      "text/plain": [
       "0.12339556188426036"
      ]
     },
     "execution_count": 187,
     "metadata": {},
     "output_type": "execute_result"
    }
   ],
   "source": [
    "((np.pi)**0.5 * f3)/((2*T)*(1-(OG/T)))"
   ]
  },
  {
   "cell_type": "code",
   "execution_count": 188,
   "metadata": {},
   "outputs": [],
   "source": [
    "R_b = T"
   ]
  },
  {
   "cell_type": "code",
   "execution_count": 189,
   "metadata": {},
   "outputs": [],
   "source": [
    "C_r = (1-f1*(R_b/T))*(1 - (OG/T) - f1*(R_b/T)) + (f2*(h_o - f1*(R_b/T))**2)"
   ]
  },
  {
   "cell_type": "code",
   "execution_count": 190,
   "metadata": {},
   "outputs": [],
   "source": [
    "C_p = 0.5*(0.87*np.exp(-v_i) - 4*np.exp(-0.187*v_i) + 3)"
   ]
  },
  {
   "cell_type": "code",
   "execution_count": 191,
   "metadata": {},
   "outputs": [
    {
     "data": {
      "text/plain": [
       "0.21146761121978752"
      ]
     },
     "execution_count": 191,
     "metadata": {},
     "output_type": "execute_result"
    }
   ],
   "source": [
    "C_p"
   ]
  },
  {
   "cell_type": "code",
   "execution_count": 192,
   "metadata": {},
   "outputs": [
    {
     "data": {
      "text/plain": [
       "2.143441678517132"
      ]
     },
     "execution_count": 192,
     "metadata": {},
     "output_type": "execute_result"
    }
   ],
   "source": [
    "v_i"
   ]
  },
  {
   "cell_type": "code",
   "execution_count": 193,
   "metadata": {},
   "outputs": [],
   "source": [
    "B_e0 = ((4*p*(T**4)*w*o)/3*np.pi)*C_r*C_p*(r_m2/T)**2"
   ]
  },
  {
   "cell_type": "code",
   "execution_count": 194,
   "metadata": {},
   "outputs": [
    {
     "data": {
      "text/plain": [
       "8256069.262455899"
      ]
     },
     "execution_count": 194,
     "metadata": {},
     "output_type": "execute_result"
    }
   ],
   "source": [
    "B_e0"
   ]
  },
  {
   "cell_type": "code",
   "execution_count": 195,
   "metadata": {},
   "outputs": [],
   "source": [
    "B_e = abs(B_e0 * (0.04* w**2 * L**2)/(U**2 + (0.04*w**2*L**2)))"
   ]
  },
  {
   "cell_type": "code",
   "execution_count": 196,
   "metadata": {},
   "outputs": [
    {
     "data": {
      "text/plain": [
       "7333125.015148618"
      ]
     },
     "execution_count": 196,
     "metadata": {},
     "output_type": "execute_result"
    }
   ],
   "source": [
    "B_e"
   ]
  },
  {
   "cell_type": "code",
   "execution_count": 197,
   "metadata": {},
   "outputs": [],
   "source": [
    "B_en = (B_e/(p*vol*B**2))*(B/2*g)**0.5"
   ]
  },
  {
   "cell_type": "code",
   "execution_count": 198,
   "metadata": {},
   "outputs": [
    {
     "data": {
      "text/plain": [
       "0.00040663533540333285"
      ]
     },
     "execution_count": 198,
     "metadata": {},
     "output_type": "execute_result"
    }
   ],
   "source": [
    "B_en"
   ]
  },
  {
   "cell_type": "code",
   "execution_count": 199,
   "metadata": {},
   "outputs": [],
   "source": [
    "def B_en(U):\n",
    "    x = abs(B_e0 * (0.04* w**2 * L**2)/(U**2 + (0.04*w**2*L**2)))\n",
    "    y = (x/(p*vol*B**2))*(B/2*g)**0.5\n",
    "    return y"
   ]
  },
  {
   "cell_type": "code",
   "execution_count": 200,
   "metadata": {},
   "outputs": [
    {
     "data": {
      "text/plain": [
       "0.00040663533540333285"
      ]
     },
     "execution_count": 200,
     "metadata": {},
     "output_type": "execute_result"
    }
   ],
   "source": [
    "B_en(U)"
   ]
  },
  {
   "cell_type": "code",
   "execution_count": 201,
   "metadata": {},
   "outputs": [],
   "source": [
    "B_eny =[B_en(U1),B_en(U2),B_en(U),B_en(U4),B_en(U5),B_en(U6)]"
   ]
  },
  {
   "cell_type": "code",
   "execution_count": 202,
   "metadata": {},
   "outputs": [
    {
     "data": {
      "text/plain": [
       "Text(0.5, 0, 'Froude Number')"
      ]
     },
     "execution_count": 202,
     "metadata": {},
     "output_type": "execute_result"
    },
    {
     "data": {
      "image/png": "[encoded data removed]",
      "text/plain": [
       "<Figure size 432x288 with 1 Axes>"
      ]
     },
     "metadata": {
      "needs_background": "light"
     },
     "output_type": "display_data"
    }
   ],
   "source": [
    "plt.plot(Fnx,B_eny)\n",
    "plt.ylabel('Non-Dimensional Eddy damping')\n",
    "plt.xlabel('Froude Number')"
   ]
  },
  {
   "cell_type": "markdown",
   "metadata": {},
   "source": [
    "## Bilge Keel Damping"
   ]
  },
  {
   "cell_type": "code",
   "execution_count": 203,
   "metadata": {},
   "outputs": [],
   "source": [
    "r_cb = T*np.sqrt((h_o- 0.293*(R_b/T))**2 + (1-(OG/T)-0.293*(R_b/T))**2)"
   ]
  },
  {
   "cell_type": "code",
   "execution_count": 204,
   "metadata": {},
   "outputs": [],
   "source": [
    "f= 1 + 0.3*np.exp(-160*(1-a_c))"
   ]
  },
  {
   "cell_type": "code",
   "execution_count": 205,
   "metadata": {},
   "outputs": [],
   "source": [
    "S_o = 0.3*np.pi*f*r_cb*o + 1.96*b_bk"
   ]
  },
  {
   "cell_type": "code",
   "execution_count": 206,
   "metadata": {},
   "outputs": [],
   "source": [
    "m1=R_b/T\n",
    "m2=OG/T\n",
    "m3=1-m1-m2\n",
    "m4= h_o-m1\n",
    "m5=(0.414*h_o + (0.0651*m1**2)-(0.382*h_o + 0.0106)*m1)/((h_o - 0.215*m1)*(1 - 0.215*m1))\n",
    "m6=(0.414*h_o + (0.0651*m1**2)-(0.382 + 0.0106*h_o)*m1)/((h_o - 0.215*m1)*(1 - 0.215*m1))\n",
    "m7=(S_o/T) - 0.25*np.pi*m1\n",
    "m8 = m7 + 0.414*m1"
   ]
  },
  {
   "cell_type": "code",
   "execution_count": 207,
   "metadata": {},
   "outputs": [],
   "source": [
    "A2 = (m3+m4)*m8 - m7**2\n",
    "B2 = (m3**2/(3*(h_o-0.215*m1)))+ ((1-m1)**2 * ((2*m3 - m2))/(6*(1 - 0.215*m1))) + (m3*m5 + m4*m6)*m1"
   ]
  },
  {
   "cell_type": "code",
   "execution_count": 208,
   "metadata": {},
   "outputs": [
    {
     "data": {
      "text/plain": [
       "8.847510310672256"
      ]
     },
     "execution_count": 208,
     "metadata": {},
     "output_type": "execute_result"
    }
   ],
   "source": [
    "0.25*np.pi*R_b"
   ]
  },
  {
   "cell_type": "code",
   "execution_count": 209,
   "metadata": {},
   "outputs": [
    {
     "data": {
      "text/plain": [
       "10.789928927924192"
      ]
     },
     "execution_count": 209,
     "metadata": {},
     "output_type": "execute_result"
    }
   ],
   "source": [
    "S_o"
   ]
  },
  {
   "cell_type": "code",
   "execution_count": 210,
   "metadata": {},
   "outputs": [],
   "source": [
    "C_d = 22.5*(b_bk/(np.pi*r_cb*o*f)) + 2.4 "
   ]
  },
  {
   "cell_type": "code",
   "execution_count": 211,
   "metadata": {},
   "outputs": [],
   "source": [
    "B_KN=((8/(3*np.pi)) *p * r_cb**3 * b_bk**2 * w * f**2 *C_d)*lbk"
   ]
  },
  {
   "cell_type": "code",
   "execution_count": 212,
   "metadata": {},
   "outputs": [],
   "source": [
    "B_KN0=((8/(3*np.pi)) *p * r_cb**2 * b_bk * w * o * f**2)*(22.5/(np.pi*f) + 2.4*(r_cb*o/b_bk))"
   ]
  },
  {
   "cell_type": "code",
   "execution_count": 213,
   "metadata": {},
   "outputs": [],
   "source": [
    "B_KKN=B_KN0+ (np.pi/2 * p * b_bk**2 * r_cb**2 * U)"
   ]
  },
  {
   "cell_type": "code",
   "execution_count": 214,
   "metadata": {},
   "outputs": [],
   "source": [
    "ik= (-(-22.5* (b_bk/(np.pi*r_cb*f*o)) - 1.2)*A2 + 1.2*B2)"
   ]
  },
  {
   "cell_type": "code",
   "execution_count": 215,
   "metadata": {},
   "outputs": [
    {
     "data": {
      "text/plain": [
       "1.4063843538626677"
      ]
     },
     "execution_count": 215,
     "metadata": {},
     "output_type": "execute_result"
    }
   ],
   "source": [
    "ik"
   ]
  },
  {
   "cell_type": "code",
   "execution_count": 216,
   "metadata": {},
   "outputs": [],
   "source": [
    "B_KH = (4/(3*np.pi))*p* r_cb**2 * T**2 * w * o * f**2 *ik *lbk"
   ]
  },
  {
   "cell_type": "code",
   "execution_count": 217,
   "metadata": {},
   "outputs": [
    {
     "data": {
      "text/plain": [
       "477370143.7288865"
      ]
     },
     "execution_count": 217,
     "metadata": {},
     "output_type": "execute_result"
    }
   ],
   "source": [
    "B_KH"
   ]
  },
  {
   "cell_type": "code",
   "execution_count": 218,
   "metadata": {},
   "outputs": [],
   "source": [
    "B_K = (B_KN+B_KH)"
   ]
  },
  {
   "cell_type": "code",
   "execution_count": 219,
   "metadata": {},
   "outputs": [
    {
     "data": {
      "text/plain": [
       "(639440585.4263327, 8853302.131429663)"
      ]
     },
     "execution_count": 219,
     "metadata": {},
     "output_type": "execute_result"
    }
   ],
   "source": [
    "B_KN,B_KKN"
   ]
  },
  {
   "cell_type": "code",
   "execution_count": 220,
   "metadata": {},
   "outputs": [
    {
     "data": {
      "text/plain": [
       "(477370143.7288865, 1116810729.155219)"
      ]
     },
     "execution_count": 220,
     "metadata": {},
     "output_type": "execute_result"
    }
   ],
   "source": [
    "B_KH,B_K"
   ]
  },
  {
   "cell_type": "code",
   "execution_count": 221,
   "metadata": {},
   "outputs": [
    {
     "name": "stdout",
     "output_type": "stream",
     "text": [
      "82923637.16446035\n"
     ]
    }
   ],
   "source": [
    "B_N= ((4/(3*np.pi))*p* r_cb**3 * lbk * w * o * f**2 *ik) \n",
    "print(B_N)"
   ]
  },
  {
   "cell_type": "code",
   "execution_count": 222,
   "metadata": {},
   "outputs": [],
   "source": [
    "B_KK=(B_K)*1/(p*vol*B**2)*(B/2*g)**0.5"
   ]
  },
  {
   "cell_type": "code",
   "execution_count": 223,
   "metadata": {},
   "outputs": [
    {
     "data": {
      "text/plain": [
       "0.06192921905653199"
      ]
     },
     "execution_count": 223,
     "metadata": {},
     "output_type": "execute_result"
    }
   ],
   "source": [
    "B_KK"
   ]
  },
  {
   "cell_type": "code",
   "execution_count": null,
   "metadata": {},
   "outputs": [],
   "source": []
  },
  {
   "cell_type": "markdown",
   "metadata": {},
   "source": [
    "## Keel component"
   ]
  },
  {
   "cell_type": "code",
   "execution_count": 224,
   "metadata": {},
   "outputs": [],
   "source": [
    "#x1=B/T;x2=C_b;x3=C_m;x4=1-OG/T;x5=w*np.sqrt(B/2*g);x6=20;x7=b_bk/B;x8=lbk/L\n",
    "#f11=(-0.3651*x2 + 0.3907)*(x1-2.83)**2 - 2.21*x2 +2.632\n",
    "#f22=0.00255*x6**2 + 0.122*x6 + 0.4794\n",
    "#f33=(-0.8913*x7**2 - 0.0733*x7)*x8**2 +(5.2857*x7**2 - 0.01185*x7 + 0.00189)*x8\n",
    "#Bk1=(5*x7 + 0.3*x1 - 0.2*x8 + 0.00126*x6**2 - 0.0425*x6 - 1.86)*x4\n",
    "#Bk2=-15*x7 + 1.2*x2 - 0.1*x1 - 0.0657*x4**2 + 0.0586*x4 + 1.6164\n",
    "#Bk3 = 2.5*x4 +15.75\n",
    "#Abk=f1*f2*f3\n",
    "#NBK=Abk * np.exp(Bk1 + (Bk2* x3**Bk3))*x5"
   ]
  },
  {
   "cell_type": "code",
   "execution_count": 225,
   "metadata": {},
   "outputs": [],
   "source": [
    "#NBK\n",
    "#0.0760905618818024\n",
    "#0.07890591839431893\n",
    "#0.16481805993814133"
   ]
  },
  {
   "cell_type": "markdown",
   "metadata": {},
   "source": [
    "## Lift"
   ]
  },
  {
   "cell_type": "code",
   "execution_count": 226,
   "metadata": {},
   "outputs": [],
   "source": [
    "C_m\n",
    "k1=0"
   ]
  },
  {
   "cell_type": "code",
   "execution_count": 227,
   "metadata": {},
   "outputs": [],
   "source": [
    "K_n=2*np.pi*(T/L)+k1*(4.1*(B/L) - 0.045)"
   ]
  },
  {
   "cell_type": "code",
   "execution_count": 228,
   "metadata": {},
   "outputs": [],
   "source": [
    "B_L = 0.075*p*U*S* T**3 *K_n*(1- (2.8*(OG/T)) + (4.667* (OG/T)**2))"
   ]
  },
  {
   "cell_type": "code",
   "execution_count": 229,
   "metadata": {},
   "outputs": [
    {
     "data": {
      "text/plain": [
       "2489467679.8143134"
      ]
     },
     "execution_count": 229,
     "metadata": {},
     "output_type": "execute_result"
    }
   ],
   "source": [
    "B_L"
   ]
  },
  {
   "cell_type": "code",
   "execution_count": 230,
   "metadata": {},
   "outputs": [],
   "source": [
    "lo=0.3*T;lr=0.5*T\n",
    "B_LL=0.5*p*L*U*K_n*lo*lr*(1- 1.4*(OG/lr)+ 0.7*(OG/lo*lr))"
   ]
  },
  {
   "cell_type": "code",
   "execution_count": 231,
   "metadata": {},
   "outputs": [
    {
     "data": {
      "text/plain": [
       "33733295.46897354"
      ]
     },
     "execution_count": 231,
     "metadata": {},
     "output_type": "execute_result"
    }
   ],
   "source": [
    "B_LL"
   ]
  },
  {
   "cell_type": "code",
   "execution_count": 257,
   "metadata": {},
   "outputs": [],
   "source": [
    "B_LN=B_LL* (1/(p*vol*B**2))* (B/2*g)**0.5"
   ]
  },
  {
   "cell_type": "code",
   "execution_count": 258,
   "metadata": {},
   "outputs": [
    {
     "data": {
      "text/plain": [
       "0.001870573580697067"
      ]
     },
     "execution_count": 258,
     "metadata": {},
     "output_type": "execute_result"
    }
   ],
   "source": [
    "B_LN"
   ]
  },
  {
   "cell_type": "code",
   "execution_count": 234,
   "metadata": {
    "scrolled": true
   },
   "outputs": [
    {
     "data": {
      "text/plain": [
       "0.18964256666709325"
      ]
     },
     "execution_count": 234,
     "metadata": {},
     "output_type": "execute_result"
    }
   ],
   "source": [
    "Fn(U)"
   ]
  },
  {
   "cell_type": "markdown",
   "metadata": {},
   "source": [
    "## Wave Component"
   ]
  },
  {
   "cell_type": "code",
   "execution_count": 235,
   "metadata": {},
   "outputs": [],
   "source": [
    "x1=B/T;x2=C_b;x3=C_m;x4=1-OG/T;x5=0.02*np.sqrt(B/2*g)\n",
    "A134 = -0.067119*x1**3 + 0.966362*x1**2 - 4.407535*x1 + 5.894703\n",
    "A133 = 0.237096*x1**3 - 3.535062*x1**2 + 16.368376*x1 - 20.539908\n",
    "A132 = -0.350563*x1**3 + 5.222348*x1**2 - 23.974852*x1 + 29.007851\n",
    "A131 = 0.192207*x1**3 - 2.787462*x1**2 + 12.507855*x1 - 14.764856\n",
    "A124 = 0.0107667*x1**4 + 0.0018704*x1**3 - 1.2494083*x1**2 + 6.9427931*x1 - 10.2018992\n",
    "A123 = -0.0589333*x1**4 + 0.2639704*x1**3 + 3.1949667*x1**2 - 21.8126569*x1 + 31.4113508\n",
    "A122 = 0.1140667*x1**4 - 0.8108963*x1**3 - 2.2186833*x1**2 + 25.1269741*x1 - 37.7729778\n",
    "A121 = -0.0628667*x1**4 + 0.4989259*x1**3 + 0.52735*x1**2 - 10.7918672*x1 + 16.616327\n",
    "A113 = -0.015422*x1**3 + 0.220371*x1**2 - 1.084987*x1 + 1.834167\n",
    "A112 = 0.010185*x1**3 - 0.161176*x1**2 + 0.904989*x1 - 1.641389\n",
    "A111 = -0.002222*x1**3 + 0.040871*x1**2 - 0.286866*x1 + 0.599424\n",
    "A13 = A131*x2**3 + A132*x2**2 + A133*x2 + A134\n",
    "A12 = A121*x2**3 + A122*x2**2 + A123*x2 + A124\n",
    "A11 = A111*x2**2 + A112*x2 + A113\n",
    "AA123 = -8.56*x1**3 + 79.549*x1**2 - 235.827*x1 + 236.579\n",
    "AA122 = 24.015*x1**3 - 222.507*x1**2 - 658.027*x1 - 660.665\n",
    "AA121 = -16.872*x1**3 + 156.399*x1**2 - 460.689*x1 + 463.848\n",
    "AA113 = 9.077*x1**3 - 84.332*x1**2 + 249.983*x1 - 250.787\n",
    "AA112 = -25.507*x1**3 + 236.275*x1**2 - 698.683*x1 + 701.494\n",
    "AA111 = 17.945*x1**3 - 166.294*x1**2 + 489.799*x1 - 493.142\n",
    "AA12 = AA121*x2**2 + AA122*x2 + AA123\n",
    "AA11 = AA111*x2**2 + AA112*x2 +AA113"
   ]
  },
  {
   "cell_type": "code",
   "execution_count": 236,
   "metadata": {},
   "outputs": [],
   "source": [
    "A37= 299122.8727*x2**6 - 1175773.1606*x2**5 + 1907356.1357*x2**4 - 1634256.8172*x2**3 + 780020.9393*x2**2 - 196679.7143*x2 + 20467.0904\n",
    "A36= 822735.9289*x2**6 + 3238899.7308*x2**5 - 5256636.5472*x2**4 + 4500543.147*x2**3 - 2143487.3598*x2**2 + 538548.1194*x2 - 55751.1528\n",
    "A35= 709672.0656*x2**6 - 2803850.2395*x2**5 + 4553780.5017*x2**4 - 3888378.9905*x2**3 + 1839829.259*x2**2 - 457313.6939*x2 + 46600.823\n",
    "A34= -110034.6584*x2**6 + 446051.22*x2**5 - 724186.4643*x2**4 + 599411.9264*x3**3 - 264294.7189*x2**2 + 58039.7328*x2 - 4773.6414\n",
    "A33= -130677.4903*x2**6 + 507996.2604*x2**5 - 826728.7127*x2**4 + 722677.104*x2**3 - 358360.7392*x2**2 + 95501.4948*x2 - 10682.8619\n",
    "A32= 61639.9103*x2**6 - 241201.0598*x2**5 + 392579.5937*x2**4 - 340629.4699*x2**3 + 166348.6917*x2**2 - 43358.7938*x2 + 4714.7918\n",
    "A31= -7686.0287*x2**6 + 30131.5678*x2**5 - 49048.9664*x2**4 + 42480.7709*x2**3 - 20665.147*x2**2 + 5355.2035*x2 -577.8827\n",
    "AA311= (-17.102*x2**3 + 41.495*x2**2 - 33.234*x2 + 8.8007)*x4 + 36.566*x2**3 - 89.203*x2**2 + 71.8*x2 - 18.108\n",
    "AA32= -0.0727*x1**2 + 0.7*x1 - 1.2818\n",
    "AA31=(-0.3767*x1**3 + 3.39*x1**2 - 10.356*x1 + 11.588)*AA311\n",
    "x6= x4-AA32\n",
    "AA3= AA31*(-1.05584*x6**9 + 12.688*x6**8 - 63.70534*x6**7 + 172.84571*x6**6 - 274.05701*x6**5 + 257.68705**x6**4 - 141.40915*x6**3 + 44.13177*x6**2 - 7.1654*x6 - 0.0495*x1**2 + 0.4518*x1 - 0.61655)\n",
    "AA1= (AA11*x3 + AA12)*(1-x4)+1\n",
    "A3 = A31*x4**6 + A32*x4**5 + A33*x4**4 + A34*x4**3 +A35*x4**2 + A36*x4 + A37 + AA3\n",
    "A2 = -1.402*x4**3 + 7.189*x4**2 - 10.993*x4 + 9.45\n",
    "A1 = (A11*x4**2 +A12*x4 + A13)*AA1\n",
    "B_w=(A1/x5) * np.exp(-A2*(np.log(x5)-A3)**2/1.44)"
   ]
  },
  {
   "cell_type": "code",
   "execution_count": 237,
   "metadata": {},
   "outputs": [
    {
     "data": {
      "text/plain": [
       "-0.0"
      ]
     },
     "execution_count": 237,
     "metadata": {},
     "output_type": "execute_result"
    }
   ],
   "source": [
    "B_w"
   ]
  },
  {
   "cell_type": "code",
   "execution_count": 238,
   "metadata": {},
   "outputs": [
    {
     "data": {
      "text/plain": [
       "0.3132091952673165"
      ]
     },
     "execution_count": 238,
     "metadata": {},
     "output_type": "execute_result"
    }
   ],
   "source": [
    "x5"
   ]
  },
  {
   "cell_type": "code",
   "execution_count": 239,
   "metadata": {},
   "outputs": [],
   "source": [
    "Be=B_fn(U)+B_en(U)+B_LN+0.006+B_KK"
   ]
  },
  {
   "cell_type": "code",
   "execution_count": 240,
   "metadata": {},
   "outputs": [
    {
     "data": {
      "text/plain": [
       "0.07020943237486736"
      ]
     },
     "execution_count": 240,
     "metadata": {},
     "output_type": "execute_result"
    }
   ],
   "source": [
    "Be"
   ]
  },
  {
   "cell_type": "markdown",
   "metadata": {},
   "source": [
    "## Placement"
   ]
  },
  {
   "cell_type": "code",
   "execution_count": 241,
   "metadata": {},
   "outputs": [],
   "source": [
    "hh=np.sqrt(17.5**2 + 5.2**2)"
   ]
  },
  {
   "cell_type": "code",
   "execution_count": 242,
   "metadata": {},
   "outputs": [
    {
     "data": {
      "text/plain": [
       "0.2848342447303453"
      ]
     },
     "execution_count": 242,
     "metadata": {},
     "output_type": "execute_result"
    }
   ],
   "source": [
    "5.2/hh"
   ]
  },
  {
   "cell_type": "code",
   "execution_count": 243,
   "metadata": {},
   "outputs": [
    {
     "data": {
      "text/plain": [
       "16.558848586492395"
      ]
     },
     "execution_count": 243,
     "metadata": {},
     "output_type": "execute_result"
    }
   ],
   "source": [
    "np.arcsin(0.285)/(np.pi/180)"
   ]
  },
  {
   "cell_type": "code",
   "execution_count": 244,
   "metadata": {},
   "outputs": [
    {
     "data": {
      "text/plain": [
       "9.128115906363153"
      ]
     },
     "execution_count": 244,
     "metadata": {},
     "output_type": "execute_result"
    }
   ],
   "source": [
    "hh/2"
   ]
  },
  {
   "cell_type": "code",
   "execution_count": 245,
   "metadata": {},
   "outputs": [
    {
     "data": {
      "text/plain": [
       "2.6001617482758155"
      ]
     },
     "execution_count": 245,
     "metadata": {},
     "output_type": "execute_result"
    }
   ],
   "source": [
    "(hh/2)*np.sin(16.55*(np.pi/180))"
   ]
  },
  {
   "cell_type": "markdown",
   "metadata": {},
   "source": [
    "## Force per unit Length\n"
   ]
  },
  {
   "cell_type": "code",
   "execution_count": 246,
   "metadata": {},
   "outputs": [],
   "source": [
    "KC=np.pi*f*o*R_b/b_bk\n",
    "Ua=R_b*2*np.pi*1/Tn*o\n",
    "CD=22.5*(KC**-1) + 2.4"
   ]
  },
  {
   "cell_type": "code",
   "execution_count": 247,
   "metadata": {},
   "outputs": [],
   "source": [
    "F = 0.5*p*b_bk*(Ua**2)*(CD + (1/4*CD)*(np.pi**3 * 1/KC)**2)"
   ]
  },
  {
   "cell_type": "code",
   "execution_count": 248,
   "metadata": {},
   "outputs": [
    {
     "data": {
      "text/plain": [
       "16688.416988082543"
      ]
     },
     "execution_count": 248,
     "metadata": {},
     "output_type": "execute_result"
    }
   ],
   "source": [
    "F\n"
   ]
  },
  {
   "cell_type": "code",
   "execution_count": 249,
   "metadata": {},
   "outputs": [
    {
     "data": {
      "text/plain": [
       "0.0007"
      ]
     },
     "execution_count": 249,
     "metadata": {},
     "output_type": "execute_result"
    }
   ],
   "source": [
    "0.7e-3"
   ]
  },
  {
   "cell_type": "code",
   "execution_count": 250,
   "metadata": {},
   "outputs": [
    {
     "data": {
      "text/plain": [
       "4.083"
      ]
     },
     "execution_count": 250,
     "metadata": {},
     "output_type": "execute_result"
    }
   ],
   "source": [
    "OG"
   ]
  },
  {
   "cell_type": "code",
   "execution_count": 251,
   "metadata": {},
   "outputs": [
    {
     "data": {
      "text/plain": [
       "<function __main__.Fn(U)>"
      ]
     },
     "execution_count": 251,
     "metadata": {},
     "output_type": "execute_result"
    }
   ],
   "source": [
    "Fn"
   ]
  },
  {
   "cell_type": "code",
   "execution_count": 252,
   "metadata": {},
   "outputs": [
    {
     "data": {
      "text/plain": [
       "0.18964256666709325"
      ]
     },
     "execution_count": 252,
     "metadata": {},
     "output_type": "execute_result"
    }
   ],
   "source": [
    "Fn(U)"
   ]
  },
  {
   "cell_type": "code",
   "execution_count": 253,
   "metadata": {},
   "outputs": [
    {
     "data": {
      "text/plain": [
       "5.8343492230031664e-05"
      ]
     },
     "execution_count": 253,
     "metadata": {},
     "output_type": "execute_result"
    }
   ],
   "source": [
    "0.0178/(L+0.336*15 +0.000221*15**2 )"
   ]
  },
  {
   "cell_type": "code",
   "execution_count": 254,
   "metadata": {},
   "outputs": [
    {
     "data": {
      "text/plain": [
       "5.8343492230031664e-05"
      ]
     },
     "execution_count": 254,
     "metadata": {},
     "output_type": "execute_result"
    }
   ],
   "source": [
    "v"
   ]
  },
  {
   "cell_type": "markdown",
   "metadata": {},
   "source": []
  }
 ],
 "metadata": {
  "kernelspec": {
   "display_name": "Python 3",
   "language": "python",
   "name": "python3"
  },
  "language_info": {
   "codemirror_mode": {
    "name": "ipython",
    "version": 3
   },
   "file_extension": ".py",
   "mimetype": "text/x-python",
   "name": "python",
   "nbconvert_exporter": "python",
   "pygments_lexer": "ipython3",
   "version": "3.8.3"
  }
 },
 "nbformat": 4,
 "nbformat_minor": 4
}
